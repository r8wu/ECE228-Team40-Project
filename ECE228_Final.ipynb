{
 "cells": [
  {
   "cell_type": "code",
   "execution_count": 1,
   "id": "23bd7526",
   "metadata": {},
   "outputs": [],
   "source": [
    "import numpy as np \n",
    "import pandas as pd \n",
    "import matplotlib.pyplot as plt\n",
    "import seaborn as sns\n",
    "import random\n",
    "import os\n",
    "from sklearn.model_selection import train_test_split\n",
    "import time\n",
    "\n",
    "import torch\n",
    "import torch.nn as nn\n",
    "from torch import optim\n",
    "import torch.nn.functional as F\n",
    "import torchvision\n",
    "import torchvision.models as models\n",
    "from torchvision.datasets import ImageFolder\n",
    "from torchvision.utils import make_grid\n",
    "import torchvision.transforms as transform\n",
    "from torch.utils.data import Dataset, DataLoader, ConcatDataset\n",
    "from torch.autograd import Variable\n",
    "from sklearn.metrics import confusion_matrix\n",
    "\n",
    "#import copy\n",
    "#import cv2\n",
    "#from PIL import Image\n",
    " \n",
    "device = torch.device('cuda:0' if torch.cuda.is_available() else 'cpu')\n",
    "dtype = torch.float32\n",
    "print_every = 100"
   ]
  },
  {
   "cell_type": "code",
   "execution_count": 2,
   "id": "10090a51",
   "metadata": {},
   "outputs": [],
   "source": [
    "path = './chest_xray'"
   ]
  },
  {
   "cell_type": "code",
   "execution_count": 3,
   "id": "37a8a045",
   "metadata": {},
   "outputs": [
    {
     "data": {
      "image/png": "[encoded data removed]",
      "text/plain": [
       "<Figure size 432x288 with 1 Axes>"
      ]
     },
     "metadata": {},
     "output_type": "display_data"
    }
   ],
   "source": [
    "normal_length = 0\n",
    "pneumonia_length = 0\n",
    "for filename in os.listdir(path+'/train/NORMAL'):\n",
    "    normal_length += 1\n",
    "for filename in os.listdir(path+'/train/PNEUMONIA'):\n",
    "    pneumonia_length += 1\n",
    "train_samplesize = pd.DataFrame.from_dict(\n",
    "    {'Normal': [normal_length], \n",
    "     'Pneumonia': [pneumonia_length]})\n",
    "\n",
    "sns.set_style('darkgrid')\n",
    "sns.barplot(data=train_samplesize).set_title('Basic view of data', fontsize=15)\n",
    "plt.show()"
   ]
  },
  {
   "cell_type": "code",
   "execution_count": 4,
   "id": "14686612",
   "metadata": {},
   "outputs": [],
   "source": [
    "def data_transforms(phase = None):\n",
    "    \n",
    "    if phase == TRAIN:\n",
    "\n",
    "        data_T = transform.Compose([\n",
    "            \n",
    "                transform.Resize(size = (256,256)),\n",
    "                transform.RandomRotation(degrees = (-20,+20)),\n",
    "                transform.CenterCrop(size=224),\n",
    "                #Might add transform.RandomHorizontalFlip(),\n",
    "                transform.ToTensor(),\n",
    "                transform.Normalize([0.485, 0.456, 0.406],[0.229, 0.224, 0.225])\n",
    "        ])\n",
    "    \n",
    "    elif phase == TEST or phase == VAL:\n",
    "\n",
    "        data_T = transform.Compose([\n",
    "\n",
    "                transform.Resize(size = (224,224)),\n",
    "                transform.ToTensor(),\n",
    "                transform.Normalize([0.485, 0.456, 0.406],[0.229, 0.224, 0.225])\n",
    "        ])\n",
    "        \n",
    "    return data_T"
   ]
  },
  {
   "cell_type": "code",
   "execution_count": 5,
   "id": "d5dec553",
   "metadata": {},
   "outputs": [],
   "source": [
    "TEST = 'test'\n",
    "TRAIN = 'train'\n",
    "VAL ='val'\n",
    "\n",
    "trainset = ImageFolder(os.path.join(path, TRAIN),transform = data_transforms(TRAIN))\n",
    "testset = ImageFolder(os.path.join(path, TEST),transform = data_transforms(TEST))\n",
    "validset = ImageFolder(os.path.join(path, VAL),transform = data_transforms(VAL))"
   ]
  },
  {
   "cell_type": "code",
   "execution_count": 6,
   "id": "dd76e0f5",
   "metadata": {},
   "outputs": [
    {
     "name": "stdout",
     "output_type": "stream",
     "text": [
      "['NORMAL', 'PNEUMONIA']\n",
      "{'NORMAL': 0, 'PNEUMONIA': 1}\n",
      "82\n",
      "1\n",
      "10\n",
      "torch.Size([64, 3, 224, 224])\n",
      "torch.Size([64])\n"
     ]
    }
   ],
   "source": [
    "class_names = trainset.classes\n",
    "print(class_names)\n",
    "print(trainset.class_to_idx)\n",
    "\n",
    "trainloader = DataLoader(trainset,batch_size = 64,shuffle = True)\n",
    "validloader = DataLoader(validset,batch_size = 64,shuffle = True)\n",
    "testloader = DataLoader(testset,batch_size = 64,shuffle = True)\n",
    "\n",
    "print(len(trainloader))\n",
    "print(len(validloader))\n",
    "print(len(testloader))\n",
    "\n",
    "images, labels = iter(trainloader).next()\n",
    "print(images.shape)\n",
    "print(labels.shape)"
   ]
  },
  {
   "cell_type": "code",
   "execution_count": 7,
   "id": "0d31ca3a",
   "metadata": {},
   "outputs": [
    {
     "data": {
      "text/plain": [
       "tensor([[[[-2.1179, -2.1179, -2.1179,  ..., -2.1179, -2.1179, -2.1179],\n",
       "          [-2.1179, -2.1179, -2.1179,  ..., -2.1179, -2.1179, -2.1179],\n",
       "          [-2.1179, -2.1179, -2.1179,  ..., -2.1179, -2.1179, -2.1179],\n",
       "          ...,\n",
       "          [-2.1179, -2.1179, -2.1179,  ..., -2.1179, -2.1179, -2.1179],\n",
       "          [-2.1179, -2.1179, -2.1179,  ..., -2.1179, -2.1179, -2.1179],\n",
       "          [-2.1179, -2.1179, -2.1179,  ..., -2.1179, -2.1179, -2.1179]],\n",
       "\n",
       "         [[-2.0357, -2.0357, -2.0357,  ..., -2.0357, -2.0357, -2.0357],\n",
       "          [-2.0357, -2.0357, -2.0357,  ..., -2.0357, -2.0357, -2.0357],\n",
       "          [-2.0357, -2.0357, -2.0357,  ..., -2.0357, -2.0357, -2.0357],\n",
       "          ...,\n",
       "          [-2.0357, -2.0357, -2.0357,  ..., -2.0357, -2.0357, -2.0357],\n",
       "          [-2.0357, -2.0357, -2.0357,  ..., -2.0357, -2.0357, -2.0357],\n",
       "          [-2.0357, -2.0357, -2.0357,  ..., -2.0357, -2.0357, -2.0357]],\n",
       "\n",
       "         [[-1.8044, -1.8044, -1.8044,  ..., -1.8044, -1.8044, -1.8044],\n",
       "          [-1.8044, -1.8044, -1.8044,  ..., -1.8044, -1.8044, -1.8044],\n",
       "          [-1.8044, -1.8044, -1.8044,  ..., -1.8044, -1.8044, -1.8044],\n",
       "          ...,\n",
       "          [-1.8044, -1.8044, -1.8044,  ..., -1.8044, -1.8044, -1.8044],\n",
       "          [-1.8044, -1.8044, -1.8044,  ..., -1.8044, -1.8044, -1.8044],\n",
       "          [-1.8044, -1.8044, -1.8044,  ..., -1.8044, -1.8044, -1.8044]]],\n",
       "\n",
       "\n",
       "        [[[-2.1179, -2.1179, -2.1179,  ..., -2.1179, -2.1179, -2.1179],\n",
       "          [-2.1179, -2.1179, -2.1179,  ..., -2.1179, -2.1179, -2.1179],\n",
       "          [-2.1179, -2.1179, -2.1179,  ..., -2.1179, -2.1179, -2.1179],\n",
       "          ...,\n",
       "          [-2.1179, -2.1179, -2.1179,  ..., -2.1179, -2.1179, -2.1179],\n",
       "          [-2.1179, -2.1179, -2.1179,  ..., -2.1179, -2.1179, -2.1179],\n",
       "          [-2.1179, -2.1179, -2.1179,  ..., -2.1179, -2.1179, -2.1179]],\n",
       "\n",
       "         [[-2.0357, -2.0357, -2.0357,  ..., -2.0357, -2.0357, -2.0357],\n",
       "          [-2.0357, -2.0357, -2.0357,  ..., -2.0357, -2.0357, -2.0357],\n",
       "          [-2.0357, -2.0357, -2.0357,  ..., -2.0357, -2.0357, -2.0357],\n",
       "          ...,\n",
       "          [-2.0357, -2.0357, -2.0357,  ..., -2.0357, -2.0357, -2.0357],\n",
       "          [-2.0357, -2.0357, -2.0357,  ..., -2.0357, -2.0357, -2.0357],\n",
       "          [-2.0357, -2.0357, -2.0357,  ..., -2.0357, -2.0357, -2.0357]],\n",
       "\n",
       "         [[-1.8044, -1.8044, -1.8044,  ..., -1.8044, -1.8044, -1.8044],\n",
       "          [-1.8044, -1.8044, -1.8044,  ..., -1.8044, -1.8044, -1.8044],\n",
       "          [-1.8044, -1.8044, -1.8044,  ..., -1.8044, -1.8044, -1.8044],\n",
       "          ...,\n",
       "          [-1.8044, -1.8044, -1.8044,  ..., -1.8044, -1.8044, -1.8044],\n",
       "          [-1.8044, -1.8044, -1.8044,  ..., -1.8044, -1.8044, -1.8044],\n",
       "          [-1.8044, -1.8044, -1.8044,  ..., -1.8044, -1.8044, -1.8044]]],\n",
       "\n",
       "\n",
       "        [[[-2.1179, -2.1179, -2.1179,  ..., -2.1179, -2.1179, -2.1179],\n",
       "          [-2.1179, -2.1179, -2.1179,  ..., -2.1179, -2.1179, -2.1179],\n",
       "          [-2.1179, -2.1179, -2.1179,  ..., -2.1179, -2.1179, -2.1179],\n",
       "          ...,\n",
       "          [-2.1179, -2.1179, -2.1179,  ..., -2.1179, -2.1179, -2.1179],\n",
       "          [-2.1179, -2.1179, -2.1179,  ..., -2.1179, -2.1179, -2.1179],\n",
       "          [-2.1179, -2.1179, -2.1179,  ..., -2.1179, -2.1179, -2.1179]],\n",
       "\n",
       "         [[-2.0357, -2.0357, -2.0357,  ..., -2.0357, -2.0357, -2.0357],\n",
       "          [-2.0357, -2.0357, -2.0357,  ..., -2.0357, -2.0357, -2.0357],\n",
       "          [-2.0357, -2.0357, -2.0357,  ..., -2.0357, -2.0357, -2.0357],\n",
       "          ...,\n",
       "          [-2.0357, -2.0357, -2.0357,  ..., -2.0357, -2.0357, -2.0357],\n",
       "          [-2.0357, -2.0357, -2.0357,  ..., -2.0357, -2.0357, -2.0357],\n",
       "          [-2.0357, -2.0357, -2.0357,  ..., -2.0357, -2.0357, -2.0357]],\n",
       "\n",
       "         [[-1.8044, -1.8044, -1.8044,  ..., -1.8044, -1.8044, -1.8044],\n",
       "          [-1.8044, -1.8044, -1.8044,  ..., -1.8044, -1.8044, -1.8044],\n",
       "          [-1.8044, -1.8044, -1.8044,  ..., -1.8044, -1.8044, -1.8044],\n",
       "          ...,\n",
       "          [-1.8044, -1.8044, -1.8044,  ..., -1.8044, -1.8044, -1.8044],\n",
       "          [-1.8044, -1.8044, -1.8044,  ..., -1.8044, -1.8044, -1.8044],\n",
       "          [-1.8044, -1.8044, -1.8044,  ..., -1.8044, -1.8044, -1.8044]]],\n",
       "\n",
       "\n",
       "        ...,\n",
       "\n",
       "\n",
       "        [[[-2.1179, -2.1179, -2.1179,  ..., -2.1179, -2.1179, -2.1179],\n",
       "          [-2.1179, -2.1179, -2.1179,  ..., -2.1179, -2.1179, -2.1179],\n",
       "          [-2.1179, -2.1179, -2.1179,  ..., -2.1179, -2.1179, -2.1179],\n",
       "          ...,\n",
       "          [-2.1179, -2.1179, -2.1179,  ..., -2.1179, -2.1179, -2.1179],\n",
       "          [-2.1179, -2.1179, -2.1179,  ..., -2.1179, -2.1179, -2.1179],\n",
       "          [-2.1179, -2.1179, -2.1179,  ..., -2.1179, -2.1179, -2.1179]],\n",
       "\n",
       "         [[-2.0357, -2.0357, -2.0357,  ..., -2.0357, -2.0357, -2.0357],\n",
       "          [-2.0357, -2.0357, -2.0357,  ..., -2.0357, -2.0357, -2.0357],\n",
       "          [-2.0357, -2.0357, -2.0357,  ..., -2.0357, -2.0357, -2.0357],\n",
       "          ...,\n",
       "          [-2.0357, -2.0357, -2.0357,  ..., -2.0357, -2.0357, -2.0357],\n",
       "          [-2.0357, -2.0357, -2.0357,  ..., -2.0357, -2.0357, -2.0357],\n",
       "          [-2.0357, -2.0357, -2.0357,  ..., -2.0357, -2.0357, -2.0357]],\n",
       "\n",
       "         [[-1.8044, -1.8044, -1.8044,  ..., -1.8044, -1.8044, -1.8044],\n",
       "          [-1.8044, -1.8044, -1.8044,  ..., -1.8044, -1.8044, -1.8044],\n",
       "          [-1.8044, -1.8044, -1.8044,  ..., -1.8044, -1.8044, -1.8044],\n",
       "          ...,\n",
       "          [-1.8044, -1.8044, -1.8044,  ..., -1.8044, -1.8044, -1.8044],\n",
       "          [-1.8044, -1.8044, -1.8044,  ..., -1.8044, -1.8044, -1.8044],\n",
       "          [-1.8044, -1.8044, -1.8044,  ..., -1.8044, -1.8044, -1.8044]]],\n",
       "\n",
       "\n",
       "        [[[-2.1179, -2.1179, -2.1179,  ..., -2.1179, -2.1179, -2.1179],\n",
       "          [-2.1179, -2.1179, -2.1179,  ..., -2.1179, -2.1179, -2.1179],\n",
       "          [-2.1179, -2.1179, -2.1179,  ..., -2.1179, -2.1179, -2.1179],\n",
       "          ...,\n",
       "          [-2.1179, -2.1179, -2.1179,  ..., -2.1179, -2.1179, -2.1179],\n",
       "          [-2.1179, -2.1179, -2.1179,  ..., -2.1179, -2.1179, -2.1179],\n",
       "          [-2.1179, -2.1179, -2.1179,  ..., -2.1179, -2.1179, -2.1179]],\n",
       "\n",
       "         [[-2.0357, -2.0357, -2.0357,  ..., -2.0357, -2.0357, -2.0357],\n",
       "          [-2.0357, -2.0357, -2.0357,  ..., -2.0357, -2.0357, -2.0357],\n",
       "          [-2.0357, -2.0357, -2.0357,  ..., -2.0357, -2.0357, -2.0357],\n",
       "          ...,\n",
       "          [-2.0357, -2.0357, -2.0357,  ..., -2.0357, -2.0357, -2.0357],\n",
       "          [-2.0357, -2.0357, -2.0357,  ..., -2.0357, -2.0357, -2.0357],\n",
       "          [-2.0357, -2.0357, -2.0357,  ..., -2.0357, -2.0357, -2.0357]],\n",
       "\n",
       "         [[-1.8044, -1.8044, -1.8044,  ..., -1.8044, -1.8044, -1.8044],\n",
       "          [-1.8044, -1.8044, -1.8044,  ..., -1.8044, -1.8044, -1.8044],\n",
       "          [-1.8044, -1.8044, -1.8044,  ..., -1.8044, -1.8044, -1.8044],\n",
       "          ...,\n",
       "          [-1.8044, -1.8044, -1.8044,  ..., -1.8044, -1.8044, -1.8044],\n",
       "          [-1.8044, -1.8044, -1.8044,  ..., -1.8044, -1.8044, -1.8044],\n",
       "          [-1.8044, -1.8044, -1.8044,  ..., -1.8044, -1.8044, -1.8044]]],\n",
       "\n",
       "\n",
       "        [[[-0.9705, -0.9192, -0.8849,  ..., -1.1932, -1.1932, -1.1760],\n",
       "          [-0.9877, -0.9877, -0.9534,  ..., -1.1075, -1.1418, -1.1589],\n",
       "          [-1.0048, -0.9705, -0.9192,  ..., -1.0733, -1.0904, -1.1418],\n",
       "          ...,\n",
       "          [ 0.1254,  0.0741,  0.1083,  ..., -2.1179, -2.1179, -2.1179],\n",
       "          [ 0.0398,  0.0569,  0.1768,  ..., -2.1179, -2.1179, -2.1179],\n",
       "          [ 0.0569,  0.0741,  0.1768,  ..., -2.1179, -2.1179, -2.1179]],\n",
       "\n",
       "         [[-0.8627, -0.8102, -0.7752,  ..., -1.0903, -1.0903, -1.0728],\n",
       "          [-0.8803, -0.8803, -0.8452,  ..., -1.0028, -1.0378, -1.0553],\n",
       "          [-0.8978, -0.8627, -0.8102,  ..., -0.9678, -0.9853, -1.0378],\n",
       "          ...,\n",
       "          [ 0.2577,  0.2052,  0.2402,  ..., -2.0357, -2.0357, -2.0357],\n",
       "          [ 0.1702,  0.1877,  0.3102,  ..., -2.0357, -2.0357, -2.0357],\n",
       "          [ 0.1877,  0.2052,  0.3102,  ..., -2.0357, -2.0357, -2.0357]],\n",
       "\n",
       "         [[-0.6367, -0.5844, -0.5495,  ..., -0.8633, -0.8633, -0.8458],\n",
       "          [-0.6541, -0.6541, -0.6193,  ..., -0.7761, -0.8110, -0.8284],\n",
       "          [-0.6715, -0.6367, -0.5844,  ..., -0.7413, -0.7587, -0.8110],\n",
       "          ...,\n",
       "          [ 0.4788,  0.4265,  0.4614,  ..., -1.8044, -1.8044, -1.8044],\n",
       "          [ 0.3916,  0.4091,  0.5311,  ..., -1.8044, -1.8044, -1.8044],\n",
       "          [ 0.4091,  0.4265,  0.5311,  ..., -1.8044, -1.8044, -1.8044]]]])"
      ]
     },
     "execution_count": 7,
     "metadata": {},
     "output_type": "execute_result"
    }
   ],
   "source": [
    "images"
   ]
  },
  {
   "cell_type": "code",
   "execution_count": 8,
   "id": "6f56d975",
   "metadata": {},
   "outputs": [
    {
     "data": {
      "text/plain": [
       "tensor([1, 1, 1, 1, 1, 1, 1, 0, 1, 0, 1, 1, 1, 1, 0, 0, 0, 1, 1, 0, 1, 1, 1, 0,\n",
       "        1, 1, 1, 1, 1, 1, 0, 1, 1, 0, 1, 0, 1, 1, 1, 1, 0, 1, 1, 1, 0, 1, 1, 0,\n",
       "        0, 1, 0, 0, 1, 1, 1, 0, 1, 1, 1, 1, 1, 1, 1, 0])"
      ]
     },
     "execution_count": 8,
     "metadata": {},
     "output_type": "execute_result"
    }
   ],
   "source": [
    "labels"
   ]
  },
  {
   "cell_type": "code",
   "execution_count": 9,
   "id": "f5e64eed",
   "metadata": {},
   "outputs": [],
   "source": [
    "#for i, (images,labels) in enumerate(trainloader):\n",
    "#        if torch.cuda.is_available():\n",
    "#            images=Variable(images.cuda())\n",
    "#            labels=Variable(labels.cuda())\n",
    "            \n",
    "#images.shape, labels.shape"
   ]
  },
  {
   "cell_type": "code",
   "execution_count": 10,
   "id": "a00b57c9",
   "metadata": {},
   "outputs": [
    {
     "data": {
      "text/plain": [
       "(torch.Size([64, 3, 224, 224]), torch.Size([64]))"
      ]
     },
     "execution_count": 10,
     "metadata": {},
     "output_type": "execute_result"
    }
   ],
   "source": [
    "images, labels = iter(trainloader).next()\n",
    "images.shape, labels.shape"
   ]
  },
  {
   "cell_type": "code",
   "execution_count": 11,
   "id": "2643a254",
   "metadata": {},
   "outputs": [],
   "source": [
    "def flatten(x):\n",
    "    N = x.shape[0] # read in N, C, H, W\n",
    "    return x.view(N, -1)  # \"flatten\" the C * H * W values into a single vector per image"
   ]
  },
  {
   "cell_type": "code",
   "execution_count": 12,
   "id": "49340574",
   "metadata": {},
   "outputs": [],
   "source": [
    "class Attention(nn.Module):\n",
    "    def __init__(self, in_channels):\n",
    "        super().__init__()\n",
    "        self.conv_query = nn.Conv2d(in_channels, in_channels, kernel_size = 1)\n",
    "        self.conv_key = nn.Conv2d(in_channels, in_channels, kernel_size = 1)\n",
    "        self.conv_value = nn.Conv2d(in_channels, in_channels, kernel_size = 1)\n",
    "\n",
    "    def forward(self, x):\n",
    "        N, C, H, W = x.shape\n",
    "        \n",
    "        q = self.conv_query(x).reshape(N,C,H*W)\n",
    "        k = self.conv_key(x).reshape(N,C,H*W)\n",
    "        v = self.conv_value(x).reshape(N,C,H*W)\n",
    "        attention = F.softmax(q @ k.transpose(1,2) / (C**(1/2)), dim = 2)\n",
    "        attention = attention @ v\n",
    "        attention = attention.reshape(N, C, H, W)\n",
    "        return x + attention"
   ]
  },
  {
   "cell_type": "code",
   "execution_count": 13,
   "id": "44b93129",
   "metadata": {},
   "outputs": [],
   "source": [
    "class easy_conv(nn.Module):\n",
    "    def __init__(self,num_classes=2):\n",
    "        super(easy_conv,self).__init__()\n",
    "        \n",
    "        #A very easy 3 conv network\n",
    "         \n",
    "        self.conv1=nn.Conv2d(in_channels=3, out_channels=15, kernel_size=3, stride=1, padding=1)\n",
    "        self.relu =nn.ReLU()   \n",
    "        self.bn1=nn.BatchNorm2d(num_features=15)\n",
    "       \n",
    "        self.maxpool=nn.MaxPool2d(kernel_size=2)\n",
    "        \n",
    "        self.conv2=nn.Conv2d(in_channels=15,out_channels=24,kernel_size=3,stride=1,padding=1)\n",
    "        self.bn2=nn.BatchNorm2d(num_features=24)\n",
    "        \n",
    "        self.conv3=nn.Conv2d(in_channels=24,out_channels=32,kernel_size=3,stride=1,padding=1)\n",
    "        self.bn3=nn.BatchNorm2d(num_features=32)\n",
    "        \n",
    "        self.linear1=nn.Linear(in_features=32 * 56 * 56,out_features=num_classes)\n",
    "    def forward(self,input):\n",
    "        output=self.conv1(input)\n",
    "        output=self.relu(output)\n",
    "        output=self.maxpool(output)\n",
    "        output=self.bn1(output)\n",
    "        \n",
    "        output=self.conv2(output)\n",
    "        output=self.relu(output)\n",
    "        output=self.maxpool(output)\n",
    "        output=self.bn2(output)\n",
    "        \n",
    "        output=self.conv3(output)\n",
    "        output=self.relu(output) \n",
    "        output=self.bn3(output)\n",
    "        \n",
    "        output=flatten(output)\n",
    "        output=self.linear1(output)\n",
    "        \n",
    "        return output\n",
    "    "
   ]
  },
  {
   "cell_type": "code",
   "execution_count": 14,
   "id": "39ebe4b5",
   "metadata": {},
   "outputs": [],
   "source": [
    "def flatten(x):\n",
    "    N = x.shape[0] # read in N, C, H, W\n",
    "    return x.view(N, -1)  # \"flatten\" the C * H * W values into a single vector per image\n",
    "\n",
    "#Below is a ResidualBlock|\n",
    "class ResidualBlock(nn.Module):\n",
    "    def __init__(self, in_channels, out_channels, stride=1, have_downsample = False, batchNorm = False):\n",
    "        super(ResidualBlock, self).__init__()\n",
    "        self.have_downsample = have_downsample\n",
    "        self.batchNorm = batchNorm\n",
    "        self.conv1 = nn.Conv2d(in_channels, out_channels, kernel_size=3, stride=stride, padding=1)\n",
    "        self.bn1 = nn.BatchNorm2d(out_channels)\n",
    "        self.relu = nn.ReLU(inplace=True)\n",
    "        self.conv2 = nn.Conv2d(out_channels, out_channels, kernel_size=3, stride=1, padding=1)\n",
    "        self.bn2 = nn.BatchNorm2d(out_channels)\n",
    "        self.downsample_conv = nn.Conv2d(in_channels, out_channels, kernel_size=3, stride=stride, padding=1)\n",
    "        self.downsample_bn = nn.BatchNorm2d(out_channels)\n",
    "        \n",
    "    def forward(self, x):\n",
    "        residual = x\n",
    "        out = self.conv1(x)\n",
    "        out = self.bn1(out) if self.batchNorm else out\n",
    "        out = self.relu(out)\n",
    "        out = self.conv2(out)\n",
    "        out = self.bn2(out) if self.batchNorm else out\n",
    "        if self.have_downsample:\n",
    "            residual = self.downsample_conv(x)\n",
    "            residual = self.downsample_bn(residual) if self.batchNorm else residual\n",
    "        out += residual\n",
    "        out = self.relu(out)\n",
    "        return out\n",
    "\n",
    "class ResNet(nn.Module):\n",
    "    \n",
    "    def __init__(self, block_size, num_classes=2, batchNorm = True, attention = False):\n",
    "        super(ResNet, self).__init__()\n",
    "        self.batchNorm = batchNorm\n",
    "        self.conv = nn.Conv2d(3, 64, kernel_size=7, stride=2, padding=3)\n",
    "        self.bn1 = nn.BatchNorm2d(64)\n",
    "        self.relu = nn.ReLU(inplace=True)\n",
    "        self.maxpool = nn.MaxPool2d(kernel_size=3, stride=2, padding=1)\n",
    "        self.in_channels = 64\n",
    "        self.layer1 = self.construct_layer(64, block_size[0], batchNorm = batchNorm)\n",
    "        self.layer2 = self.construct_layer(128, block_size[1], have_downsample = True, batchNorm = batchNorm)\n",
    "        self.attention = attention\n",
    "        self.ATT1 = Attention(64)\n",
    "        self.layer3 = self.construct_layer(256, block_size[2], have_downsample = True, batchNorm = batchNorm)\n",
    "        self.layer4 = self.construct_layer(512, block_size[3], stride = 2, have_downsample = True, batchNorm = batchNorm)\n",
    "        self.avg_pool = nn.AvgPool2d(4)\n",
    "        self.linear = nn.Linear(512 * 7 * 7, num_classes)\n",
    "        #self.softmax = nn.Softmax(dim = 0)\n",
    "        \n",
    "    def construct_layer(self, out_channels, layer, stride=1, have_downsample = False, batchNorm = False):\n",
    "        layers = []\n",
    "        layers.append(ResidualBlock(self.in_channels, out_channels, stride, have_downsample = have_downsample, batchNorm = batchNorm))\n",
    "        self.in_channels = out_channels\n",
    "        for i in range(1, layer):\n",
    "            layers.append(ResidualBlock(out_channels, out_channels)) #additional part for further usage\n",
    "        return nn.Sequential(*layers)\n",
    "    \n",
    "    def forward(self, x):\n",
    "        out = self.conv(x)\n",
    "        out = self.bn1(out) if self.batchNorm else out\n",
    "        out = self.relu(out)\n",
    "        out = self.maxpool(out)\n",
    "        out = self.layer1(out)\n",
    "        if self.attention:\n",
    "            out = self.ATT1(out)\n",
    "        out = self.layer2(out)\n",
    "        out = self.layer3(out)\n",
    "        out = self.layer4(out)\n",
    "        out = self.avg_pool(out)\n",
    "        out = flatten(out)\n",
    "        out = self.linear(out)\n",
    "        return out\n",
    "    "
   ]
  },
  {
   "cell_type": "code",
   "execution_count": 15,
   "id": "65547d09",
   "metadata": {},
   "outputs": [],
   "source": [
    "class VGG(nn.Module):\n",
    "    \n",
    "    def __init__(self, block_size, num_classes=2, attention = False):\n",
    "        super(VGG, self).__init__()\n",
    "        self.attention = attention\n",
    "        self.layer1 = self.construct_layer(3, 64, block_size[0])\n",
    "        self.layer2 = self.construct_layer(64, 128, block_size[1])\n",
    "        self.ATT = Attention(128)\n",
    "        self.layer3 = self.construct_layer(128, 256, block_size[2])\n",
    "        self.layer4 = self.construct_layer(256, 512, block_size[3])\n",
    "        self.layer5 = self.construct_layer(512, 512, block_size[4])\n",
    "        self.linear1 = nn.Linear(7*7*512, 4096)\n",
    "        self.relu = nn.ReLU(inplace = True)\n",
    "        self.drop = nn.Dropout(0.5)\n",
    "        self.linear2 = nn.Linear(4096, 4096)\n",
    "        self.linear3 = nn.Linear(4096, num_classes)\n",
    "        #self.softmax = nn.Softmax(dim = 0)\n",
    "        \n",
    "    def construct_layer(self, in_channels, out_channels, layer):\n",
    "        layers = []\n",
    "        layers.append(nn.Sequential(\n",
    "                nn.Conv2d(in_channels, out_channels, kernel_size = 3, padding = 1),\n",
    "                nn.BatchNorm2d(out_channels),\n",
    "                nn.ReLU(inplace = True)\n",
    "        ))\n",
    "        for i in range(1, layer):\n",
    "            layers.append(nn.Sequential(\n",
    "                nn.Conv2d(out_channels, out_channels, kernel_size = 3, padding = 1),\n",
    "                nn.BatchNorm2d(out_channels),\n",
    "                nn.ReLU(inplace = True))) #additional part for further usage\n",
    "        layers.append(nn.MaxPool2d(2, stride = 2))\n",
    "        return nn.Sequential(*layers)\n",
    "    \n",
    "    def forward(self, x):\n",
    "        out = self.layer1(x)\n",
    "        out = self.layer2(out)\n",
    "        if self.attention:\n",
    "            out = self.ATT(out)\n",
    "        out = self.layer3(out)\n",
    "        out = self.layer4(out)\n",
    "        out = self.layer5(out)\n",
    "        out = flatten(out)\n",
    "        out = self.linear1(out)\n",
    "        out = self.relu(out)\n",
    "        out = self.drop(out)\n",
    "        out = self.linear2(out)\n",
    "        out = self.relu(out)\n",
    "        out = self.drop(out)\n",
    "        out = self.linear3(out)\n",
    "        return out\n",
    "\n",
    "\n",
    "\n",
    "#model = VGG([2, 2, 3,3,3]).to(device)"
   ]
  },
  {
   "cell_type": "code",
   "execution_count": 16,
   "id": "e08bb1f8",
   "metadata": {},
   "outputs": [],
   "source": [
    "def Conv1(in_planes, places, stride=2):\n",
    "    return nn.Sequential(\n",
    "        nn.Conv2d(in_channels=in_planes,out_channels=places,kernel_size=7,stride=stride,padding=3, bias=False),\n",
    "        nn.BatchNorm2d(places),\n",
    "        nn.ReLU(inplace=True),\n",
    "        nn.MaxPool2d(kernel_size=3, stride=2, padding=1)\n",
    "    )\n",
    "\n",
    "class _TransitionLayer(nn.Module):\n",
    "    def __init__(self, inplace, plance):\n",
    "        super(_TransitionLayer, self).__init__()\n",
    "        self.transition_layer = nn.Sequential(\n",
    "            nn.BatchNorm2d(inplace),\n",
    "            nn.ReLU(inplace=True),\n",
    "            nn.Conv2d(in_channels=inplace,out_channels=plance,kernel_size=1,stride=1,padding=0,bias=False),\n",
    "            nn.AvgPool2d(kernel_size=2,stride=2),\n",
    "        )\n",
    "\n",
    "    def forward(self, x):\n",
    "        return self.transition_layer(x)\n",
    "\n",
    "\n",
    "class _DenseLayer(nn.Module):\n",
    "    def __init__(self, inplace, growth_rate, bn_size, drop_rate=0):\n",
    "        super(_DenseLayer, self).__init__()\n",
    "        self.drop_rate = drop_rate\n",
    "        self.dense_layer = nn.Sequential(\n",
    "            nn.BatchNorm2d(inplace),\n",
    "            nn.ReLU(inplace=True),\n",
    "            nn.Conv2d(in_channels=inplace, out_channels=bn_size * growth_rate, kernel_size=1, stride=1, padding=0, bias=False),\n",
    "            nn.BatchNorm2d(bn_size * growth_rate),\n",
    "            nn.ReLU(inplace=True),\n",
    "            nn.Conv2d(in_channels=bn_size * growth_rate, out_channels=growth_rate, kernel_size=3, stride=1, padding=1, bias=False),\n",
    "        )\n",
    "        self.dropout = nn.Dropout(p=self.drop_rate)\n",
    "\n",
    "    def forward(self, x):\n",
    "        y = self.dense_layer(x)\n",
    "        if self.drop_rate > 0:\n",
    "            y = self.dropout(y)\n",
    "        return torch.cat([x, y], 1)\n",
    "\n",
    "\n",
    "class DenseBlock(nn.Module):\n",
    "    def __init__(self, num_layers, inplances, growth_rate, bn_size , drop_rate=0):\n",
    "        super(DenseBlock, self).__init__()\n",
    "        layers = []\n",
    "        for i in range(num_layers):\n",
    "            layers.append(_DenseLayer(inplances + i * growth_rate, growth_rate, bn_size, drop_rate))\n",
    "        self.layers = nn.Sequential(*layers)\n",
    "\n",
    "    def forward(self, x):\n",
    "        return self.layers(x)\n",
    "\n",
    "\n",
    "class DenseNet(nn.Module):\n",
    "    def __init__(self, init_channels=64, growth_rate=32, blocks=[6, 12, 24, 16], num_classes=2, attention = False):\n",
    "        super(DenseNet, self).__init__()\n",
    "        bn_size = 4\n",
    "        drop_rate = 0\n",
    "        self.conv1 = Conv1(in_planes=3, places=init_channels)\n",
    "        self.attention = attention\n",
    "\n",
    "        num_features = init_channels\n",
    "        self.layer1 = DenseBlock(num_layers=blocks[0], inplances=num_features, growth_rate=growth_rate, bn_size=bn_size, drop_rate=drop_rate)\n",
    "        num_features = num_features + blocks[0] * growth_rate\n",
    "        self.transition1 = _TransitionLayer(inplace=num_features, plance=num_features // 2)\n",
    "        num_features = num_features // 2\n",
    "        self.layer2 = DenseBlock(num_layers=blocks[1], inplances=num_features, growth_rate=growth_rate, bn_size=bn_size, drop_rate=drop_rate)\n",
    "        num_features = num_features + blocks[1] * growth_rate\n",
    "        self.transition2 = _TransitionLayer(inplace=num_features, plance=num_features // 2)\n",
    "        num_features = num_features // 2\n",
    "        self.ATT = Attention(num_features)\n",
    "        self.layer3 = DenseBlock(num_layers=blocks[2], inplances=num_features, growth_rate=growth_rate, bn_size=bn_size, drop_rate=drop_rate)\n",
    "        num_features = num_features + blocks[2] * growth_rate\n",
    "        self.transition3 = _TransitionLayer(inplace=num_features, plance=num_features // 2)\n",
    "        num_features = num_features // 2\n",
    "        self.layer4 = DenseBlock(num_layers=blocks[3], inplances=num_features, growth_rate=growth_rate, bn_size=bn_size, drop_rate=drop_rate)\n",
    "        num_features = num_features + blocks[3] * growth_rate\n",
    "\n",
    "        self.avgpool = nn.AvgPool2d(7, stride=1)\n",
    "        self.fc = nn.Linear(num_features, num_classes)\n",
    "\n",
    "    def forward(self, x):\n",
    "        x = self.conv1(x)\n",
    "\n",
    "        x = self.layer1(x)\n",
    "        x = self.transition1(x)\n",
    "        x = self.layer2(x)\n",
    "        x = self.transition2(x)\n",
    "        if self.attention:\n",
    "            x = self.ATT(x)\n",
    "        x = self.layer3(x)\n",
    "        x = self.transition3(x)\n",
    "        x = self.layer4(x)\n",
    "\n",
    "        x = self.avgpool(x)\n",
    "        x = x.view(x.size(0), -1)\n",
    "        x = self.fc(x)\n",
    "        return x\n",
    "\n",
    "def DenseNet121():\n",
    "    return DenseNet(init_channels=64, growth_rate=32, blocks=[6, 12, 24, 16])\n",
    "\n",
    "def DenseNet161():\n",
    "    return DenseNet(init_channels=64, growth_rate=32, blocks=[6, 12, 32, 32])\n",
    "\n",
    "def DenseNet201():\n",
    "    return DenseNet(init_channels=64, growth_rate=32, blocks=[6, 12, 48, 32])\n",
    "\n",
    "def DenseNet264():\n",
    "    return DenseNet(init_channels=64, growth_rate=32, blocks=[6, 12, 64, 48])"
   ]
  },
  {
   "cell_type": "code",
   "execution_count": 17,
   "id": "c52be979",
   "metadata": {},
   "outputs": [],
   "source": [
    "def check_accuracy(loader, model):\n",
    "    num_correct = 0\n",
    "    num_samples = 0\n",
    "    model.eval()  # set model to evaluation mode\n",
    "    with torch.no_grad():\n",
    "        for x, y in loader:\n",
    "            x = x.to(device=device, dtype=dtype)  # move to device, e.g. GPU\n",
    "            y = y.to(device=device, dtype=torch.long)\n",
    "            scores = model(x)\n",
    "            _, preds = scores.max(1)\n",
    "            num_correct += (preds == y).sum()\n",
    "            num_samples += preds.size(0)\n",
    "        acc = float(num_correct) / num_samples\n",
    "        print('Got %d / %d correct (%.2f)' % (num_correct, num_samples, 100 * acc))\n",
    "    return acc"
   ]
  },
  {
   "cell_type": "code",
   "execution_count": 18,
   "id": "3f20f8fa",
   "metadata": {},
   "outputs": [],
   "source": [
    "def train_part(model, optimizer, epochs, loss_history, acc_valid_history, acc_train_history, get_every_train_acc):\n",
    "    model = model.to(device=device)\n",
    "    for e in range(epochs):\n",
    "        for t, (x, y) in enumerate(trainloader):\n",
    "            model.train()  # put model to training mode\n",
    "            x = x.to(device=device, dtype=dtype)  # move to device, e.g. GPU\n",
    "            y = y.to(device=device, dtype=torch.long)\n",
    "\n",
    "            scores = model(x)\n",
    "            loss = F.cross_entropy(scores, y)\n",
    "\n",
    "            optimizer.zero_grad()\n",
    "            loss.backward()\n",
    "            optimizer.step()\n",
    "            \n",
    "\n",
    "            if t % print_every == 0:\n",
    "                print('Epoch %d, Iteration %d, loss = %.4f' % (e, t, loss.item()))\n",
    "                loss_history.append(loss.item())\n",
    "                print('Checking validation accuracy')\n",
    "                acc_valid = check_accuracy(validloader, model)\n",
    "                acc_valid_history.append(acc_valid)\n",
    "                if get_every_train_acc:\n",
    "                    print('Checking training accuracy')\n",
    "                    acc_train = check_accuracy(trainloader, model)\n",
    "                    acc_train_history.append(acc_train)\n",
    "                print()"
   ]
  },
  {
   "cell_type": "code",
   "execution_count": 18,
   "id": "7e3ba60d",
   "metadata": {},
   "outputs": [
    {
     "name": "stdout",
     "output_type": "stream",
     "text": [
      "available\n",
      "Epoch 0, Iteration 0, loss = 0.7342\n",
      "Checking validation accuracy\n",
      "Got 8 / 16 correct (50.00)\n",
      "\n",
      "Epoch 1, Iteration 0, loss = 0.2885\n",
      "Checking validation accuracy\n",
      "Got 9 / 16 correct (56.25)\n",
      "\n",
      "Epoch 2, Iteration 0, loss = 0.1724\n",
      "Checking validation accuracy\n",
      "Got 8 / 16 correct (50.00)\n",
      "\n",
      "Epoch 3, Iteration 0, loss = 0.1161\n",
      "Checking validation accuracy\n",
      "Got 10 / 16 correct (62.50)\n",
      "\n",
      "Epoch 4, Iteration 0, loss = 0.0914\n",
      "Checking validation accuracy\n",
      "Got 10 / 16 correct (62.50)\n",
      "\n",
      "Epoch 5, Iteration 0, loss = 0.0582\n",
      "Checking validation accuracy\n",
      "Got 10 / 16 correct (62.50)\n",
      "\n",
      "Epoch 6, Iteration 0, loss = 0.0312\n",
      "Checking validation accuracy\n",
      "Got 8 / 16 correct (50.00)\n",
      "\n",
      "Epoch 7, Iteration 0, loss = 0.2505\n",
      "Checking validation accuracy\n",
      "Got 8 / 16 correct (50.00)\n",
      "\n"
     ]
    }
   ],
   "source": [
    "#In this case, we didn't change the label and index to Variable. So the accuracy may decrease. We do this to compare the result to the \n",
    "# ResNet-10 Result below \n",
    "\n",
    "loss_history =[]\n",
    "acc_valid_history = [] \n",
    "acc_train_history = []\n",
    "model_easy = None\n",
    "optimizer = None\n",
    "model_easy = easy_conv()\n",
    "optimizer = optim.SGD(model_easy.parameters(), lr=0.005,\n",
    "                     momentum=0.9, nesterov=True)\n",
    "if torch.cuda.is_available():\n",
    "    print(\"available\")\n",
    "    model_easy = model_easy.cuda()\n",
    "\n",
    "train_part(model_easy, optimizer, 8, loss_history, acc_valid_history, acc_train_history, False)"
   ]
  },
  {
   "cell_type": "markdown",
   "id": "c30fe318",
   "metadata": {},
   "source": [
    "### The accuray below is for the simple 3 conv network. "
   ]
  },
  {
   "cell_type": "code",
   "execution_count": 13,
   "id": "35aedc75",
   "metadata": {},
   "outputs": [
    {
     "name": "stdout",
     "output_type": "stream",
     "text": [
      "Got 514 / 624 correct (82.37)\n"
     ]
    },
    {
     "data": {
      "text/plain": [
       "0.8237179487179487"
      ]
     },
     "execution_count": 13,
     "metadata": {},
     "output_type": "execute_result"
    }
   ],
   "source": [
    "check_accuracy(testloader, model_easy)"
   ]
  },
  {
   "cell_type": "markdown",
   "id": "8e0bbba8",
   "metadata": {},
   "source": [
    "# ResNet"
   ]
  },
  {
   "cell_type": "code",
   "execution_count": 24,
   "id": "25b1ca70",
   "metadata": {},
   "outputs": [
    {
     "name": "stdout",
     "output_type": "stream",
     "text": [
      "available\n",
      "Epoch 0, Iteration 0, loss = 0.6858\n",
      "Checking validation accuracy\n",
      "Got 8 / 16 correct (50.00)\n",
      "\n",
      "Epoch 1, Iteration 0, loss = 0.2830\n",
      "Checking validation accuracy\n",
      "Got 9 / 16 correct (56.25)\n",
      "\n",
      "Epoch 2, Iteration 0, loss = 0.1651\n",
      "Checking validation accuracy\n",
      "Got 12 / 16 correct (75.00)\n",
      "\n",
      "Epoch 3, Iteration 0, loss = 0.0935\n",
      "Checking validation accuracy\n",
      "Got 9 / 16 correct (56.25)\n",
      "\n",
      "Epoch 4, Iteration 0, loss = 0.0611\n",
      "Checking validation accuracy\n",
      "Got 10 / 16 correct (62.50)\n",
      "\n",
      "Epoch 5, Iteration 0, loss = 0.1599\n",
      "Checking validation accuracy\n",
      "Got 8 / 16 correct (50.00)\n",
      "\n",
      "Epoch 6, Iteration 0, loss = 0.0724\n",
      "Checking validation accuracy\n",
      "Got 11 / 16 correct (68.75)\n",
      "\n",
      "Epoch 7, Iteration 0, loss = 0.1102\n",
      "Checking validation accuracy\n",
      "Got 9 / 16 correct (56.25)\n",
      "\n"
     ]
    }
   ],
   "source": [
    "model = None\n",
    "optimizer = None\n",
    "loss_history =[]\n",
    "acc_valid_history = [] \n",
    "acc_train_history = []\n",
    "model = ResNet([1, 1, 1, 1]).to(device)\n",
    "optimizer = optim.Adam(model.parameters(), lr=0.001)\n",
    "if torch.cuda.is_available():\n",
    "    print(\"available\")\n",
    "    model = model.cuda()\n",
    "\n",
    "train_part(model, optimizer, 10, loss_history, acc_valid_history, acc_train_history, True)\n",
    "Resnet10_No_ATT = model"
   ]
  },
  {
   "cell_type": "markdown",
   "id": "9de7c3fe",
   "metadata": {},
   "source": [
    "### The accuray below is for the ResNet_10 network (w/o TL, w/o Attention). "
   ]
  },
  {
   "cell_type": "code",
   "execution_count": 25,
   "id": "6ce0507e",
   "metadata": {},
   "outputs": [
    {
     "name": "stdout",
     "output_type": "stream",
     "text": [
      "Got 504 / 624 correct (80.77)\n"
     ]
    },
    {
     "data": {
      "text/plain": [
       "0.8076923076923077"
      ]
     },
     "execution_count": 25,
     "metadata": {},
     "output_type": "execute_result"
    }
   ],
   "source": [
    "check_accuracy(testloader, model)"
   ]
  },
  {
   "cell_type": "code",
   "execution_count": 23,
   "id": "48234b6b",
   "metadata": {},
   "outputs": [
    {
     "name": "stdout",
     "output_type": "stream",
     "text": [
      "available\n",
      "Epoch 0, Iteration 0, loss = 0.6977\n",
      "Checking validation accuracy\n",
      "Got 8 / 16 correct (50.00)\n",
      "Checking training accuracy\n",
      "Got 3875 / 5216 correct (74.29)\n",
      "\n",
      "Epoch 1, Iteration 0, loss = 0.2716\n",
      "Checking validation accuracy\n",
      "Got 11 / 16 correct (68.75)\n",
      "Checking training accuracy\n",
      "Got 4679 / 5216 correct (89.70)\n",
      "\n",
      "Epoch 2, Iteration 0, loss = 0.1573\n",
      "Checking validation accuracy\n",
      "Got 9 / 16 correct (56.25)\n",
      "Checking training accuracy\n",
      "Got 4869 / 5216 correct (93.35)\n",
      "\n",
      "Epoch 3, Iteration 0, loss = 0.3439\n",
      "Checking validation accuracy\n",
      "Got 9 / 16 correct (56.25)\n",
      "Checking training accuracy\n",
      "Got 4891 / 5216 correct (93.77)\n",
      "\n",
      "Epoch 4, Iteration 0, loss = 0.1946\n",
      "Checking validation accuracy\n",
      "Got 8 / 16 correct (50.00)\n",
      "Checking training accuracy\n",
      "Got 4874 / 5216 correct (93.44)\n",
      "\n",
      "Epoch 5, Iteration 0, loss = 0.1882\n",
      "Checking validation accuracy\n",
      "Got 8 / 16 correct (50.00)\n",
      "Checking training accuracy\n",
      "Got 4934 / 5216 correct (94.59)\n",
      "\n",
      "Epoch 6, Iteration 0, loss = 0.1024\n",
      "Checking validation accuracy\n",
      "Got 10 / 16 correct (62.50)\n",
      "Checking training accuracy\n",
      "Got 4969 / 5216 correct (95.26)\n",
      "\n",
      "Epoch 7, Iteration 0, loss = 0.1547\n",
      "Checking validation accuracy\n",
      "Got 9 / 16 correct (56.25)\n",
      "Checking training accuracy\n",
      "Got 4967 / 5216 correct (95.23)\n",
      "\n",
      "Epoch 8, Iteration 0, loss = 0.1919\n",
      "Checking validation accuracy\n",
      "Got 8 / 16 correct (50.00)\n",
      "Checking training accuracy\n",
      "Got 4992 / 5216 correct (95.71)\n",
      "\n",
      "Epoch 9, Iteration 0, loss = 0.1488\n",
      "Checking validation accuracy\n",
      "Got 9 / 16 correct (56.25)\n",
      "Checking training accuracy\n",
      "Got 5022 / 5216 correct (96.28)\n",
      "\n"
     ]
    }
   ],
   "source": [
    "model = None\n",
    "optimizer = None\n",
    "loss_history =[]\n",
    "acc_valid_history = [] \n",
    "acc_train_history = []\n",
    "model = ResNet([1, 1, 1, 1], attention = True).to(device)\n",
    "optimizer = optim.Adam(model.parameters(), lr=0.001)\n",
    "if torch.cuda.is_available():\n",
    "    print(\"available\")\n",
    "    model = model.cuda()\n",
    "\n",
    "train_part(model, optimizer, 10, loss_history, acc_valid_history, acc_train_history, True)\n",
    "Resnet10_ATT = model"
   ]
  },
  {
   "cell_type": "markdown",
   "id": "0247cd1e",
   "metadata": {},
   "source": [
    "### The accuray below is for the ResNet_10 network (w/o TL, w Attention). "
   ]
  },
  {
   "cell_type": "code",
   "execution_count": 24,
   "id": "10c6bdcc",
   "metadata": {},
   "outputs": [
    {
     "name": "stdout",
     "output_type": "stream",
     "text": [
      "Got 543 / 624 correct (87.02)\n"
     ]
    },
    {
     "data": {
      "text/plain": [
       "0.8701923076923077"
      ]
     },
     "execution_count": 24,
     "metadata": {},
     "output_type": "execute_result"
    }
   ],
   "source": [
    "check_accuracy(testloader, Resnet10_ATT)"
   ]
  },
  {
   "cell_type": "code",
   "execution_count": 31,
   "id": "f939df78",
   "metadata": {},
   "outputs": [
    {
     "name": "stdout",
     "output_type": "stream",
     "text": [
      "available\n",
      "Epoch 0, Iteration 0, loss = 0.6828\n",
      "Checking validation accuracy\n",
      "Got 8 / 16 correct (50.00)\n",
      "Checking training accuracy\n",
      "Got 3875 / 5216 correct (74.29)\n",
      "\n",
      "Epoch 1, Iteration 0, loss = 0.3451\n",
      "Checking validation accuracy\n",
      "Got 8 / 16 correct (50.00)\n",
      "Checking training accuracy\n",
      "Got 3875 / 5216 correct (74.29)\n",
      "\n",
      "Epoch 2, Iteration 0, loss = 0.1053\n",
      "Checking validation accuracy\n",
      "Got 10 / 16 correct (62.50)\n",
      "Checking training accuracy\n",
      "Got 4774 / 5216 correct (91.53)\n",
      "\n",
      "Epoch 3, Iteration 0, loss = 0.4266\n",
      "Checking validation accuracy\n",
      "Got 10 / 16 correct (62.50)\n",
      "Checking training accuracy\n",
      "Got 4666 / 5216 correct (89.46)\n",
      "\n",
      "Epoch 4, Iteration 0, loss = 0.1142\n",
      "Checking validation accuracy\n",
      "Got 10 / 16 correct (62.50)\n",
      "Checking training accuracy\n",
      "Got 4799 / 5216 correct (92.01)\n",
      "\n",
      "Epoch 5, Iteration 0, loss = 0.0880\n",
      "Checking validation accuracy\n",
      "Got 11 / 16 correct (68.75)\n",
      "Checking training accuracy\n",
      "Got 4891 / 5216 correct (93.77)\n",
      "\n",
      "Epoch 6, Iteration 0, loss = 0.1122\n",
      "Checking validation accuracy\n",
      "Got 10 / 16 correct (62.50)\n",
      "Checking training accuracy\n",
      "Got 4961 / 5216 correct (95.11)\n",
      "\n",
      "Epoch 7, Iteration 0, loss = 0.2119\n",
      "Checking validation accuracy\n",
      "Got 12 / 16 correct (75.00)\n",
      "Checking training accuracy\n",
      "Got 4931 / 5216 correct (94.54)\n",
      "\n",
      "Epoch 8, Iteration 0, loss = 0.0709\n",
      "Checking validation accuracy\n",
      "Got 11 / 16 correct (68.75)\n",
      "Checking training accuracy\n",
      "Got 4969 / 5216 correct (95.26)\n",
      "\n",
      "Epoch 9, Iteration 0, loss = 0.1085\n",
      "Checking validation accuracy\n",
      "Got 10 / 16 correct (62.50)\n",
      "Checking training accuracy\n",
      "Got 4952 / 5216 correct (94.94)\n",
      "\n"
     ]
    }
   ],
   "source": [
    "model = None\n",
    "optimizer = None\n",
    "loss_history =[]\n",
    "acc_valid_history = [] \n",
    "acc_train_history = []\n",
    "model = ResNet([3, 4, 6, 3]).to(device)\n",
    "optimizer = optim.Adam(model.parameters(), lr=0.001)\n",
    "if torch.cuda.is_available():\n",
    "    print(\"available\")\n",
    "    model = model.cuda()\n",
    "\n",
    "train_part(model, optimizer, 10, loss_history, acc_valid_history, acc_train_history, True)"
   ]
  },
  {
   "cell_type": "markdown",
   "id": "2e5af84e",
   "metadata": {},
   "source": [
    "### The accuray below is for the ResNet_50 network. (w/o TL, w/o Attention)"
   ]
  },
  {
   "cell_type": "code",
   "execution_count": 32,
   "id": "d4849dd7",
   "metadata": {},
   "outputs": [
    {
     "name": "stdout",
     "output_type": "stream",
     "text": [
      "Got 531 / 624 correct (85.10)\n"
     ]
    },
    {
     "data": {
      "text/plain": [
       "0.8509615384615384"
      ]
     },
     "execution_count": 32,
     "metadata": {},
     "output_type": "execute_result"
    }
   ],
   "source": [
    "check_accuracy(testloader, model)"
   ]
  },
  {
   "cell_type": "code",
   "execution_count": 37,
   "id": "0c69044d",
   "metadata": {},
   "outputs": [
    {
     "data": {
      "image/png": "[encoded data removed]",
      "text/plain": [
       "<Figure size 1080x864 with 2 Axes>"
      ]
     },
     "metadata": {},
     "output_type": "display_data"
    }
   ],
   "source": [
    "plt.subplot(2, 1, 1)\n",
    "plt.title('Training loss')\n",
    "plt.plot(loss_history, '-o')\n",
    "plt.xlabel('epoch')\n",
    "\n",
    "plt.subplot(2, 1, 2)\n",
    "plt.title('Accuracy')\n",
    "plt.plot(acc_train_history, '-o', label='train')\n",
    "plt.plot(acc_valid_history, '-o', label='val')\n",
    "plt.xlabel('Epoch')\n",
    "plt.legend(loc='lower right')\n",
    "plt.gcf().set_size_inches(15, 12)\n",
    "plt.show()"
   ]
  },
  {
   "cell_type": "code",
   "execution_count": 27,
   "id": "f17e7c5a",
   "metadata": {},
   "outputs": [],
   "source": [
    "resnet50 = models.resnet50(pretrained=True)\n",
    "for param in resnet50.parameters():\n",
    "    param.requires_grad = False\n",
    "\n",
    "final_in_features = resnet50.fc.in_features\n",
    "resnet50.fc = nn.Linear(final_in_features, 2)\n",
    "resnet50 = resnet50.to(device)"
   ]
  },
  {
   "cell_type": "code",
   "execution_count": 28,
   "id": "93fb2bac",
   "metadata": {},
   "outputs": [
    {
     "name": "stdout",
     "output_type": "stream",
     "text": [
      "available\n",
      "Epoch 0, Iteration 0, loss = 0.7991\n",
      "Checking validation accuracy\n",
      "Got 8 / 16 correct (50.00)\n",
      "Checking training accuracy\n",
      "Got 3875 / 5216 correct (74.29)\n",
      "\n",
      "Epoch 1, Iteration 0, loss = 0.1977\n",
      "Checking validation accuracy\n",
      "Got 15 / 16 correct (93.75)\n",
      "Checking training accuracy\n",
      "Got 4856 / 5216 correct (93.10)\n",
      "\n",
      "Epoch 2, Iteration 0, loss = 0.1285\n",
      "Checking validation accuracy\n",
      "Got 16 / 16 correct (100.00)\n",
      "Checking training accuracy\n",
      "Got 4931 / 5216 correct (94.54)\n",
      "\n",
      "Epoch 3, Iteration 0, loss = 0.1067\n",
      "Checking validation accuracy\n",
      "Got 14 / 16 correct (87.50)\n",
      "Checking training accuracy\n",
      "Got 4952 / 5216 correct (94.94)\n",
      "\n",
      "Epoch 4, Iteration 0, loss = 0.1048\n",
      "Checking validation accuracy\n",
      "Got 14 / 16 correct (87.50)\n",
      "Checking training accuracy\n",
      "Got 4962 / 5216 correct (95.13)\n",
      "\n",
      "Epoch 5, Iteration 0, loss = 0.0785\n",
      "Checking validation accuracy\n",
      "Got 16 / 16 correct (100.00)\n",
      "Checking training accuracy\n",
      "Got 4967 / 5216 correct (95.23)\n",
      "\n",
      "Epoch 6, Iteration 0, loss = 0.1112\n",
      "Checking validation accuracy\n",
      "Got 16 / 16 correct (100.00)\n",
      "Checking training accuracy\n",
      "Got 4852 / 5216 correct (93.02)\n",
      "\n",
      "Epoch 7, Iteration 0, loss = 0.1822\n",
      "Checking validation accuracy\n",
      "Got 15 / 16 correct (93.75)\n",
      "Checking training accuracy\n",
      "Got 4983 / 5216 correct (95.53)\n",
      "\n",
      "Epoch 8, Iteration 0, loss = 0.1245\n",
      "Checking validation accuracy\n",
      "Got 16 / 16 correct (100.00)\n",
      "Checking training accuracy\n",
      "Got 5011 / 5216 correct (96.07)\n",
      "\n",
      "Epoch 9, Iteration 0, loss = 0.0752\n",
      "Checking validation accuracy\n",
      "Got 14 / 16 correct (87.50)\n",
      "Checking training accuracy\n",
      "Got 5000 / 5216 correct (95.86)\n",
      "\n"
     ]
    }
   ],
   "source": [
    "model = None\n",
    "optimizer = None\n",
    "loss_history =[]\n",
    "acc_valid_history = [] \n",
    "acc_train_history = []\n",
    "\n",
    "#Note that the code above applies VGG network designed by ourself, however due to cuda out of memory. We are not able to directly apply it and we try it on another computer to record the data\n",
    "\n",
    "model = resnet50\n",
    "optimizer = optim.Adam(model.parameters(), lr=0.001)\n",
    "if torch.cuda.is_available():\n",
    "    print(\"available\")\n",
    "    model = model.cuda()\n",
    "\n",
    "train_part(model, optimizer, 10, loss_history, acc_valid_history, acc_train_history, True)\n",
    "resnet50_pretrianed = model"
   ]
  },
  {
   "cell_type": "markdown",
   "id": "34c7a2ab",
   "metadata": {},
   "source": [
    "### The accuray below is for the ResNet_50 network. (TL)"
   ]
  },
  {
   "cell_type": "code",
   "execution_count": 31,
   "id": "fbdc9fdb",
   "metadata": {},
   "outputs": [
    {
     "name": "stdout",
     "output_type": "stream",
     "text": [
      "Got 489 / 624 correct (78.37)\n"
     ]
    },
    {
     "data": {
      "text/plain": [
       "0.7836538461538461"
      ]
     },
     "execution_count": 31,
     "metadata": {},
     "output_type": "execute_result"
    }
   ],
   "source": [
    "check_accuracy(testloader, resnet50_pretrianed)"
   ]
  },
  {
   "cell_type": "code",
   "execution_count": 32,
   "id": "29eabad2",
   "metadata": {},
   "outputs": [
    {
     "data": {
      "image/png": "[encoded data removed]",
      "text/plain": [
       "<Figure size 1080x864 with 2 Axes>"
      ]
     },
     "metadata": {},
     "output_type": "display_data"
    }
   ],
   "source": [
    "plt.subplot(2, 1, 1)\n",
    "plt.title('Training loss')\n",
    "plt.plot(loss_history, '-o')\n",
    "plt.xlabel('epoch')\n",
    "\n",
    "plt.subplot(2, 1, 2)\n",
    "plt.title('Accuracy')\n",
    "plt.plot(acc_train_history, '-o', label='train')\n",
    "plt.plot(acc_valid_history, '-o', label='val')\n",
    "plt.xlabel('Epoch')\n",
    "plt.legend(loc='lower right')\n",
    "plt.gcf().set_size_inches(15, 12)\n",
    "plt.show()"
   ]
  },
  {
   "cell_type": "code",
   "execution_count": 19,
   "id": "4409cd5a",
   "metadata": {},
   "outputs": [
    {
     "name": "stdout",
     "output_type": "stream",
     "text": [
      "available\n",
      "Epoch 0, Iteration 0, loss = 0.5334\n",
      "Checking validation accuracy\n",
      "Got 8 / 16 correct (50.00)\n",
      "Checking training accuracy\n",
      "Got 1341 / 5216 correct (25.71)\n",
      "\n",
      "Epoch 1, Iteration 0, loss = 0.2799\n",
      "Checking validation accuracy\n",
      "Got 10 / 16 correct (62.50)\n",
      "Checking training accuracy\n",
      "Got 4355 / 5216 correct (83.49)\n",
      "\n",
      "Epoch 2, Iteration 0, loss = 0.2033\n",
      "Checking validation accuracy\n",
      "Got 8 / 16 correct (50.00)\n",
      "Checking training accuracy\n",
      "Got 2928 / 5216 correct (56.13)\n",
      "\n",
      "Epoch 3, Iteration 0, loss = 0.1608\n",
      "Checking validation accuracy\n",
      "Got 10 / 16 correct (62.50)\n",
      "Checking training accuracy\n",
      "Got 4684 / 5216 correct (89.80)\n",
      "\n",
      "Epoch 4, Iteration 0, loss = 0.1167\n",
      "Checking validation accuracy\n",
      "Got 9 / 16 correct (56.25)\n",
      "Checking training accuracy\n",
      "Got 4773 / 5216 correct (91.51)\n",
      "\n",
      "Epoch 5, Iteration 0, loss = 0.1444\n",
      "Checking validation accuracy\n",
      "Got 7 / 16 correct (43.75)\n",
      "Checking training accuracy\n",
      "Got 3068 / 5216 correct (58.82)\n",
      "\n",
      "Epoch 6, Iteration 0, loss = 0.1659\n",
      "Checking validation accuracy\n",
      "Got 10 / 16 correct (62.50)\n",
      "Checking training accuracy\n",
      "Got 4067 / 5216 correct (77.97)\n",
      "\n",
      "Epoch 7, Iteration 0, loss = 0.0652\n",
      "Checking validation accuracy\n",
      "Got 8 / 16 correct (50.00)\n",
      "Checking training accuracy\n",
      "Got 4896 / 5216 correct (93.87)\n",
      "\n",
      "Epoch 8, Iteration 0, loss = 0.3115\n",
      "Checking validation accuracy\n",
      "Got 9 / 16 correct (56.25)\n",
      "Checking training accuracy\n",
      "Got 4965 / 5216 correct (95.19)\n",
      "\n",
      "Epoch 9, Iteration 0, loss = 0.0443\n",
      "Checking validation accuracy\n",
      "Got 10 / 16 correct (62.50)\n",
      "Checking training accuracy\n",
      "Got 4974 / 5216 correct (95.36)\n",
      "\n"
     ]
    }
   ],
   "source": [
    "model = None\n",
    "optimizer = None\n",
    "loss_history =[]\n",
    "acc_valid_history = [] \n",
    "acc_train_history = []\n",
    "model = ResNet([3, 4, 6, 3], attention = True).to(device)\n",
    "optimizer = optim.Adam(model.parameters(), lr=0.005)\n",
    "if torch.cuda.is_available():\n",
    "    print(\"available\")\n",
    "    model = model.cuda()\n",
    "\n",
    "train_part(model, optimizer, 10, loss_history, acc_valid_history, acc_train_history, True)\n",
    "resnet50_attention = model"
   ]
  },
  {
   "cell_type": "markdown",
   "id": "93f8139e",
   "metadata": {},
   "source": [
    "### The accuray below is for the ResNet_50 network. (Attention)"
   ]
  },
  {
   "cell_type": "code",
   "execution_count": 20,
   "id": "1d4182cc",
   "metadata": {},
   "outputs": [
    {
     "name": "stdout",
     "output_type": "stream",
     "text": [
      "Got 511 / 624 correct (81.89)\n"
     ]
    },
    {
     "data": {
      "text/plain": [
       "0.8189102564102564"
      ]
     },
     "execution_count": 20,
     "metadata": {},
     "output_type": "execute_result"
    }
   ],
   "source": [
    "check_accuracy(testloader, resnet50_attention)"
   ]
  },
  {
   "cell_type": "code",
   "execution_count": 21,
   "id": "543cb090",
   "metadata": {},
   "outputs": [
    {
     "data": {
      "image/png": "[encoded data removed]",
      "text/plain": [
       "<Figure size 1080x864 with 2 Axes>"
      ]
     },
     "metadata": {},
     "output_type": "display_data"
    }
   ],
   "source": [
    "plt.subplot(2, 1, 1)\n",
    "plt.title('Training loss')\n",
    "plt.plot(loss_history, '-o')\n",
    "plt.xlabel('epoch')\n",
    "\n",
    "plt.subplot(2, 1, 2)\n",
    "plt.title('Accuracy')\n",
    "plt.plot(acc_train_history, '-o', label='train')\n",
    "plt.plot(acc_valid_history, '-o', label='val')\n",
    "plt.xlabel('Epoch')\n",
    "plt.legend(loc='lower right')\n",
    "plt.gcf().set_size_inches(15, 12)\n",
    "plt.show()"
   ]
  },
  {
   "cell_type": "markdown",
   "id": "f95fe0d2",
   "metadata": {},
   "source": [
    "# VGG (pretrained and not pretrained)"
   ]
  },
  {
   "cell_type": "code",
   "execution_count": 5,
   "id": "18936120",
   "metadata": {},
   "outputs": [],
   "source": [
    "vgg = models.vgg16_bn(pretrained=True)\n",
    "for param in vgg.parameters():\n",
    "    param.requires_grad = False\n",
    "\n",
    "final_in_features = vgg.classifier[6].in_features\n",
    "vgg.classifier[6] = nn.Linear(final_in_features, 2)\n",
    "vgg = vgg.to(device)"
   ]
  },
  {
   "cell_type": "code",
   "execution_count": 31,
   "id": "efe54698",
   "metadata": {},
   "outputs": [
    {
     "name": "stdout",
     "output_type": "stream",
     "text": [
      "available\n",
      "Epoch 0, Iteration 0, loss = 0.2460\n",
      "Checking validation accuracy\n",
      "Got 13 / 16 correct (81.25)\n",
      "Checking training accuracy\n",
      "Got 4869 / 5216 correct (93.35)\n",
      "\n",
      "Epoch 1, Iteration 0, loss = 0.2069\n",
      "Checking validation accuracy\n",
      "Got 14 / 16 correct (87.50)\n",
      "Checking training accuracy\n",
      "Got 4966 / 5216 correct (95.21)\n",
      "\n",
      "Epoch 2, Iteration 0, loss = 0.0881\n",
      "Checking validation accuracy\n",
      "Got 12 / 16 correct (75.00)\n",
      "Checking training accuracy\n",
      "Got 4963 / 5216 correct (95.15)\n",
      "\n",
      "Epoch 3, Iteration 0, loss = 0.2902\n",
      "Checking validation accuracy\n",
      "Got 11 / 16 correct (68.75)\n",
      "Checking training accuracy\n",
      "Got 4975 / 5216 correct (95.38)\n",
      "\n",
      "Epoch 4, Iteration 0, loss = 0.1078\n",
      "Checking validation accuracy\n",
      "Got 12 / 16 correct (75.00)\n",
      "Checking training accuracy\n",
      "Got 4963 / 5216 correct (95.15)\n",
      "\n",
      "Epoch 5, Iteration 0, loss = 0.1788\n",
      "Checking validation accuracy\n",
      "Got 11 / 16 correct (68.75)\n",
      "Checking training accuracy\n",
      "Got 4975 / 5216 correct (95.38)\n",
      "\n",
      "Epoch 6, Iteration 0, loss = 0.1484\n",
      "Checking validation accuracy\n",
      "Got 13 / 16 correct (81.25)\n",
      "Checking training accuracy\n",
      "Got 4957 / 5216 correct (95.03)\n",
      "\n",
      "Epoch 7, Iteration 0, loss = 0.1456\n",
      "Checking validation accuracy\n",
      "Got 13 / 16 correct (81.25)\n",
      "Checking training accuracy\n",
      "Got 4978 / 5216 correct (95.44)\n",
      "\n",
      "Epoch 8, Iteration 0, loss = 0.3050\n",
      "Checking validation accuracy\n",
      "Got 14 / 16 correct (87.50)\n",
      "Checking training accuracy\n",
      "Got 4910 / 5216 correct (94.13)\n",
      "\n",
      "Epoch 9, Iteration 0, loss = 0.1379\n",
      "Checking validation accuracy\n",
      "Got 13 / 16 correct (81.25)\n",
      "Checking training accuracy\n",
      "Got 4959 / 5216 correct (95.07)\n",
      "\n"
     ]
    }
   ],
   "source": [
    "#Notation: Cuda out of memory on my machine, so I test VGG without transfer learning on other's computer.\n",
    "\n",
    "model = None\n",
    "optimizer = None\n",
    "loss_history =[]\n",
    "acc_valid_history = [] \n",
    "acc_train_history = []\n",
    "#model = VGG([2, 2, 3, 3, 3]).to(device)\n",
    "#Note that the code above applies VGG network designed by ourself, however due to cuda out of memory. We are not able to directly apply it and we try it on another computer to record the data\n",
    "\n",
    "model = vgg\n",
    "optimizer = optim.Adam(model.parameters(), lr=0.001)\n",
    "if torch.cuda.is_available():\n",
    "    print(\"available\")\n",
    "    model = model.cuda()\n",
    "\n",
    "train_part(model, optimizer, 10, loss_history, acc_valid_history, acc_train_history, True)"
   ]
  },
  {
   "cell_type": "markdown",
   "id": "eeee1d49",
   "metadata": {},
   "source": [
    "### The accuray below is for the VGG network (pretrained / transfer learning). "
   ]
  },
  {
   "cell_type": "code",
   "execution_count": 22,
   "id": "8a65d1c1",
   "metadata": {},
   "outputs": [
    {
     "name": "stdout",
     "output_type": "stream",
     "text": [
      "Got 518 / 624 correct (83.01)\n"
     ]
    },
    {
     "data": {
      "text/plain": [
       "0.8301282051282052"
      ]
     },
     "execution_count": 22,
     "metadata": {},
     "output_type": "execute_result"
    }
   ],
   "source": [
    "check_accuracy(testloader, model)"
   ]
  },
  {
   "cell_type": "code",
   "execution_count": 23,
   "id": "384c8afe",
   "metadata": {},
   "outputs": [
    {
     "data": {
      "image/png": "[encoded data removed]",
      "text/plain": [
       "<Figure size 1080x864 with 2 Axes>"
      ]
     },
     "metadata": {},
     "output_type": "display_data"
    }
   ],
   "source": [
    "plt.subplot(2, 1, 1)\n",
    "plt.title('Training loss')\n",
    "plt.plot(loss_history, '-o')\n",
    "plt.xlabel('epoch')\n",
    "\n",
    "plt.subplot(2, 1, 2)\n",
    "plt.title('Accuracy')\n",
    "plt.plot(acc_train_history, '-o', label='train')\n",
    "plt.plot(acc_valid_history, '-o', label='val')\n",
    "plt.xlabel('Epoch')\n",
    "plt.legend(loc='lower right')\n",
    "plt.gcf().set_size_inches(15, 12)\n",
    "plt.show()"
   ]
  },
  {
   "cell_type": "markdown",
   "id": "9ea5c023",
   "metadata": {},
   "source": [
    "# DenseNet161"
   ]
  },
  {
   "cell_type": "code",
   "execution_count": 26,
   "id": "15fb8c1f",
   "metadata": {},
   "outputs": [
    {
     "name": "stderr",
     "output_type": "stream",
     "text": [
      "Downloading: \"https://download.pytorch.org/models/densenet161-8d451a50.pth\" to C:\\Users\\Hp/.cache\\torch\\hub\\checkpoints\\densenet161-8d451a50.pth\n",
      "21.2%IOPub message rate exceeded.\n",
      "The notebook server will temporarily stop sending output\n",
      "to the client in order to avoid crashing it.\n",
      "To change this limit, set the config variable\n",
      "`--NotebookApp.iopub_msg_rate_limit`.\n",
      "\n",
      "Current values:\n",
      "NotebookApp.iopub_msg_rate_limit=1000.0 (msgs/sec)\n",
      "NotebookApp.rate_limit_window=3.0 (secs)\n",
      "\n",
      "52.3%IOPub message rate exceeded.\n",
      "The notebook server will temporarily stop sending output\n",
      "to the client in order to avoid crashing it.\n",
      "To change this limit, set the config variable\n",
      "`--NotebookApp.iopub_msg_rate_limit`.\n",
      "\n",
      "Current values:\n",
      "NotebookApp.iopub_msg_rate_limit=1000.0 (msgs/sec)\n",
      "NotebookApp.rate_limit_window=3.0 (secs)\n",
      "\n",
      "82.7%IOPub message rate exceeded.\n",
      "The notebook server will temporarily stop sending output\n",
      "to the client in order to avoid crashing it.\n",
      "To change this limit, set the config variable\n",
      "`--NotebookApp.iopub_msg_rate_limit`.\n",
      "\n",
      "Current values:\n",
      "NotebookApp.iopub_msg_rate_limit=1000.0 (msgs/sec)\n",
      "NotebookApp.rate_limit_window=3.0 (secs)\n",
      "\n",
      "100.0%\n"
     ]
    }
   ],
   "source": [
    "densenet161 = models.densenet161(pretrained=True)\n",
    "for param in densenet161.parameters():\n",
    "    param.requires_grad = False\n",
    "\n",
    "final_in_features = densenet161.classifier.in_features\n",
    "densenet161.classifier = nn.Linear(final_in_features, 2)\n",
    "densenet161 = densenet161.to(device)"
   ]
  },
  {
   "cell_type": "code",
   "execution_count": 27,
   "id": "41d313a9",
   "metadata": {},
   "outputs": [
    {
     "name": "stdout",
     "output_type": "stream",
     "text": [
      "available\n",
      "Epoch 0, Iteration 0, loss = 0.7224\n",
      "Checking validation accuracy\n",
      "Got 8 / 16 correct (50.00)\n",
      "Checking training accuracy\n",
      "Got 3867 / 5216 correct (74.14)\n",
      "\n",
      "Epoch 1, Iteration 0, loss = 0.3218\n",
      "Checking validation accuracy\n",
      "Got 14 / 16 correct (87.50)\n",
      "Checking training accuracy\n",
      "Got 4932 / 5216 correct (94.56)\n",
      "\n",
      "Epoch 2, Iteration 0, loss = 0.1774\n",
      "Checking validation accuracy\n",
      "Got 11 / 16 correct (68.75)\n",
      "Checking training accuracy\n",
      "Got 4987 / 5216 correct (95.61)\n",
      "\n",
      "Epoch 3, Iteration 0, loss = 0.1426\n",
      "Checking validation accuracy\n",
      "Got 11 / 16 correct (68.75)\n",
      "Checking training accuracy\n",
      "Got 5013 / 5216 correct (96.11)\n",
      "\n",
      "Epoch 4, Iteration 0, loss = 0.1803\n",
      "Checking validation accuracy\n",
      "Got 12 / 16 correct (75.00)\n",
      "Checking training accuracy\n",
      "Got 5019 / 5216 correct (96.22)\n",
      "\n",
      "Epoch 5, Iteration 0, loss = 0.0300\n",
      "Checking validation accuracy\n",
      "Got 12 / 16 correct (75.00)\n",
      "Checking training accuracy\n",
      "Got 5013 / 5216 correct (96.11)\n",
      "\n",
      "Epoch 6, Iteration 0, loss = 0.1128\n",
      "Checking validation accuracy\n",
      "Got 11 / 16 correct (68.75)\n",
      "Checking training accuracy\n",
      "Got 5037 / 5216 correct (96.57)\n",
      "\n",
      "Epoch 7, Iteration 0, loss = 0.0786\n",
      "Checking validation accuracy\n",
      "Got 11 / 16 correct (68.75)\n",
      "Checking training accuracy\n",
      "Got 5025 / 5216 correct (96.34)\n",
      "\n",
      "Epoch 8, Iteration 0, loss = 0.0767\n",
      "Checking validation accuracy\n",
      "Got 12 / 16 correct (75.00)\n",
      "Checking training accuracy\n",
      "Got 5047 / 5216 correct (96.76)\n",
      "\n",
      "Epoch 9, Iteration 0, loss = 0.1287\n",
      "Checking validation accuracy\n",
      "Got 11 / 16 correct (68.75)\n",
      "Checking training accuracy\n",
      "Got 5038 / 5216 correct (96.59)\n",
      "\n"
     ]
    }
   ],
   "source": [
    "model = None\n",
    "optimizer = None\n",
    "loss_history =[]\n",
    "acc_valid_history = [] \n",
    "acc_train_history = []\n",
    "model = densenet161\n",
    "optimizer = optim.Adam(model.parameters(), lr=0.001)\n",
    "if torch.cuda.is_available():\n",
    "    print(\"available\")\n",
    "    model = model.cuda()\n",
    "\n",
    "train_part(model, optimizer, 10, loss_history, acc_valid_history, acc_train_history, True)"
   ]
  },
  {
   "cell_type": "markdown",
   "id": "a5616546",
   "metadata": {},
   "source": [
    "### The accuray below is for the densenet161 network (pretrained / transfer learning). "
   ]
  },
  {
   "cell_type": "code",
   "execution_count": 28,
   "id": "e635decd",
   "metadata": {},
   "outputs": [
    {
     "name": "stdout",
     "output_type": "stream",
     "text": [
      "Got 550 / 624 correct (88.14)\n"
     ]
    },
    {
     "data": {
      "text/plain": [
       "0.8814102564102564"
      ]
     },
     "execution_count": 28,
     "metadata": {},
     "output_type": "execute_result"
    }
   ],
   "source": [
    "check_accuracy(testloader, model)"
   ]
  },
  {
   "cell_type": "code",
   "execution_count": 29,
   "id": "57190200",
   "metadata": {},
   "outputs": [],
   "source": [
    "#Note that because of cuda momory is limited. Desnenet 161 network w/p TL and attention are tested on other GPU environment. Here we only \n",
    "#show Desnenet 161(together with attention) implementation code."
   ]
  },
  {
   "cell_type": "markdown",
   "id": "33a55f1e",
   "metadata": {},
   "source": [
    "# Dense121"
   ]
  },
  {
   "cell_type": "code",
   "execution_count": 29,
   "id": "e4fe4042",
   "metadata": {},
   "outputs": [
    {
     "name": "stderr",
     "output_type": "stream",
     "text": [
      "Downloading: \"https://download.pytorch.org/models/densenet121-a639ec97.pth\" to C:\\Users\\Hp/.cache\\torch\\hub\\checkpoints\\densenet121-a639ec97.pth\n",
      "76.0%IOPub message rate exceeded.\n",
      "The notebook server will temporarily stop sending output\n",
      "to the client in order to avoid crashing it.\n",
      "To change this limit, set the config variable\n",
      "`--NotebookApp.iopub_msg_rate_limit`.\n",
      "\n",
      "Current values:\n",
      "NotebookApp.iopub_msg_rate_limit=1000.0 (msgs/sec)\n",
      "NotebookApp.rate_limit_window=3.0 (secs)\n",
      "\n"
     ]
    }
   ],
   "source": [
    "densenet121 = models.densenet121(pretrained=True)\n",
    "for param in densenet121.parameters():\n",
    "    param.requires_grad = False\n",
    "\n",
    "final_in_features = densenet121.classifier.in_features\n",
    "densenet121.classifier = nn.Linear(final_in_features, 2)\n",
    "densenet121 = densenet121.to(device)"
   ]
  },
  {
   "cell_type": "code",
   "execution_count": 30,
   "id": "5f6a47e2",
   "metadata": {},
   "outputs": [
    {
     "name": "stdout",
     "output_type": "stream",
     "text": [
      "available\n",
      "Epoch 0, Iteration 0, loss = 0.5391\n",
      "Checking validation accuracy\n",
      "Got 8 / 16 correct (50.00)\n",
      "Checking training accuracy\n",
      "Got 3872 / 5216 correct (74.23)\n",
      "\n",
      "Epoch 1, Iteration 0, loss = 0.2236\n",
      "Checking validation accuracy\n",
      "Got 14 / 16 correct (87.50)\n",
      "Checking training accuracy\n",
      "Got 4857 / 5216 correct (93.12)\n",
      "\n",
      "Epoch 2, Iteration 0, loss = 0.2142\n",
      "Checking validation accuracy\n",
      "Got 13 / 16 correct (81.25)\n",
      "Checking training accuracy\n",
      "Got 4891 / 5216 correct (93.77)\n",
      "\n",
      "Epoch 3, Iteration 0, loss = 0.2076\n",
      "Checking validation accuracy\n",
      "Got 14 / 16 correct (87.50)\n",
      "Checking training accuracy\n",
      "Got 4938 / 5216 correct (94.67)\n",
      "\n",
      "Epoch 4, Iteration 0, loss = 0.1283\n",
      "Checking validation accuracy\n",
      "Got 15 / 16 correct (93.75)\n",
      "Checking training accuracy\n",
      "Got 4915 / 5216 correct (94.23)\n",
      "\n",
      "Epoch 5, Iteration 0, loss = 0.1187\n",
      "Checking validation accuracy\n",
      "Got 14 / 16 correct (87.50)\n",
      "Checking training accuracy\n",
      "Got 4973 / 5216 correct (95.34)\n",
      "\n",
      "Epoch 6, Iteration 0, loss = 0.1506\n",
      "Checking validation accuracy\n",
      "Got 15 / 16 correct (93.75)\n",
      "Checking training accuracy\n",
      "Got 4977 / 5216 correct (95.42)\n",
      "\n",
      "Epoch 7, Iteration 0, loss = 0.1067\n",
      "Checking validation accuracy\n",
      "Got 15 / 16 correct (93.75)\n",
      "Checking training accuracy\n",
      "Got 4984 / 5216 correct (95.55)\n",
      "\n",
      "Epoch 8, Iteration 0, loss = 0.1703\n",
      "Checking validation accuracy\n",
      "Got 15 / 16 correct (93.75)\n",
      "Checking training accuracy\n",
      "Got 4993 / 5216 correct (95.72)\n",
      "\n",
      "Epoch 9, Iteration 0, loss = 0.1220\n",
      "Checking validation accuracy\n",
      "Got 15 / 16 correct (93.75)\n",
      "Checking training accuracy\n",
      "Got 4967 / 5216 correct (95.23)\n",
      "\n"
     ]
    }
   ],
   "source": [
    "model = None\n",
    "optimizer = None\n",
    "loss_history =[]\n",
    "acc_valid_history = [] \n",
    "acc_train_history = []\n",
    "model = densenet121\n",
    "optimizer = optim.Adam(model.parameters(), lr=0.001)\n",
    "if torch.cuda.is_available():\n",
    "    print(\"available\")\n",
    "    model = model.cuda()\n",
    "\n",
    "train_part(model, optimizer, 10, loss_history, acc_valid_history, acc_train_history, True)\n",
    "densenet121_after_train = model"
   ]
  },
  {
   "cell_type": "markdown",
   "id": "3ad3a2ee",
   "metadata": {},
   "source": [
    "### The accuray below is for the densenet121 network (pretrained / transfer learning). "
   ]
  },
  {
   "cell_type": "code",
   "execution_count": 33,
   "id": "4f094295",
   "metadata": {},
   "outputs": [
    {
     "name": "stdout",
     "output_type": "stream",
     "text": [
      "Got 548 / 624 correct (87.82)\n"
     ]
    },
    {
     "data": {
      "text/plain": [
       "0.8782051282051282"
      ]
     },
     "execution_count": 33,
     "metadata": {},
     "output_type": "execute_result"
    }
   ],
   "source": [
    "check_accuracy(testloader, model)"
   ]
  },
  {
   "cell_type": "code",
   "execution_count": null,
   "id": "dd5a927c",
   "metadata": {},
   "outputs": [],
   "source": [
    "#Note that because of cuda momory is limited. Desnenet 121 network w/p TL and attention are tested on other GPU environment. Here we only \n",
    "#show Desnenet 121(together with attention) implementation code."
   ]
  },
  {
   "cell_type": "code",
   "execution_count": 35,
   "id": "67fefb0e",
   "metadata": {},
   "outputs": [
    {
     "data": {
      "image/png": "[encoded data removed]",
      "text/plain": [
       "<Figure size 1080x864 with 2 Axes>"
      ]
     },
     "metadata": {},
     "output_type": "display_data"
    }
   ],
   "source": [
    "#loss_history = [0.5391, 0.2236, 0.2142, 0.2076, 0.1283, 0.1187, 0.1506, 0.1067, 0.1703, 0.1220]\n",
    "#acc_train_history = [74.23, 93.12, 93.77, 94.67, 94.23, 95.34, 95.42, 95.55, 95.72, 95.23]\n",
    "#acc_valid_history = [50.00, 87.50, 81.25, 87.50, 93.75, 87.50, 93.75, 93.75, 93.75, 93.75]\n",
    "\n",
    "plt.subplot(2, 1, 1)\n",
    "plt.title('Training loss')\n",
    "plt.plot(loss_history, '-o')\n",
    "plt.xlabel('epoch')\n",
    "\n",
    "plt.subplot(2, 1, 2)\n",
    "plt.title('Accuracy')\n",
    "plt.plot(acc_train_history, '-o', label='train')\n",
    "plt.plot(acc_valid_history, '-o', label='val')\n",
    "plt.xlabel('Epoch')\n",
    "plt.legend(loc='lower right')\n",
    "plt.gcf().set_size_inches(15, 12)\n",
    "plt.show()"
   ]
  },
  {
   "cell_type": "code",
   "execution_count": 42,
   "id": "3c85ddff",
   "metadata": {},
   "outputs": [
    {
     "name": "stdout",
     "output_type": "stream",
     "text": [
      "available\n"
     ]
    }
   ],
   "source": [
    "model = None\n",
    "optimizer = None\n",
    "loss_history =[]\n",
    "acc_valid_history = [] \n",
    "acc_train_history = []\n",
    "model = DenseNet121()\n",
    "optimizer = optim.Adam(model.parameters(), lr=0.001)\n",
    "if torch.cuda.is_available():\n",
    "    print(\"available\")\n",
    "    model = model.cuda()\n",
    "\n",
    "train_part(model, optimizer, 10, loss_history, acc_valid_history, acc_train_history, True)\n",
    "densenet121_wo_TL = model"
   ]
  },
  {
   "cell_type": "code",
   "execution_count": null,
   "id": "db5649a6",
   "metadata": {},
   "outputs": [],
   "source": []
  }
 ],
 "metadata": {
  "kernelspec": {
   "display_name": "Python 3 (ipykernel)",
   "language": "python",
   "name": "python3"
  },
  "language_info": {
   "codemirror_mode": {
    "name": "ipython",
    "version": 3
   },
   "file_extension": ".py",
   "mimetype": "text/x-python",
   "name": "python",
   "nbconvert_exporter": "python",
   "pygments_lexer": "ipython3",
   "version": "3.9.5"
  }
 },
 "nbformat": 4,
 "nbformat_minor": 5
}
